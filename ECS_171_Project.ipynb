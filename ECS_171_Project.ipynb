{
  "cells": [
    {
      "cell_type": "markdown",
      "metadata": {
        "id": "tERWuHyv1ToQ"
      },
      "source": [
        "#ECS 171 Project: Detecting Cyber Intrusion on IoT Traffic Data\n",
        "####Completed by Matthew Armstrong, Karthik Palanisamy, Rahul Prabhu, Matthew Tom, and Kyle Tsuji\n",
        "#####*Professor Solares, ECS 171: Machine Learning - UC Davis Summer 2023*\n"
      ]
    },
    {
      "cell_type": "markdown",
      "metadata": {
        "id": "LwGTlhud2T53"
      },
      "source": [
        "##Imports and Data Setup"
      ]
    },
    {
      "cell_type": "code",
      "execution_count": null,
      "metadata": {
        "id": "U87m-zAHC_Wl"
      },
      "outputs": [],
      "source": [
        "import pandas as pd\n",
        "import numpy as np\n",
        "import seaborn as sns\n",
        "from sklearn.preprocessing import OneHotEncoder\n",
        "from sklearn.preprocessing import MinMaxScaler"
      ]
    },
    {
      "cell_type": "code",
      "execution_count": null,
      "metadata": {},
      "outputs": [],
      "source": [
        "# get dataset from github archive\n",
        "!wget https://github.com/matthewarmstr/ECS-171-Project/raw/main/IoT_Intrusion.zip\n",
        "!unzip IoT_Intrusion.zip"
      ]
    },
    {
      "cell_type": "code",
      "execution_count": null,
      "metadata": {
        "id": "VIndCxSmCt6h"
      },
      "outputs": [],
      "source": [
        "# load data file\n",
        "intru_table = pd.read_csv(\"IoT_Intrusion.csv\")\n",
        "intru_labels_removed = intru_table.drop(columns=['label'])"
      ]
    },
    {
      "cell_type": "markdown",
      "metadata": {
        "id": "1GOa-OAH1DWV"
      },
      "source": [
        "##Data Preprocessing"
      ]
    },
    {
      "cell_type": "code",
      "execution_count": null,
      "metadata": {
        "id": "ygTCt9MOG0Jh"
      },
      "outputs": [],
      "source": [
        "# complete one-hot encoding on intrusion labels\n",
        "ohe = OneHotEncoder()\n",
        "ohe_intru_labels = ohe.fit_transform(intru_table['label'].values.reshape(-1,1)).toarray()\n",
        "\n",
        "# normalize traffic attribute data\n",
        "scaler = MinMaxScaler()\n",
        "norm_intru_labels_removed = pd.DataFrame(scaler.fit_transform(intru_labels_removed), columns=['flow_duration', 'Header_Length', 'Protocol Type', 'Duration', 'Rate',\n",
        "                                                                                              'Srate', 'Drate', 'fin_flag_number', 'syn_flag_number', 'rst_flag_number',\n",
        "                                                                                             'psh_flag_number', 'ack_flag_number', 'ece_flag_number', 'cwr_flag_number',\n",
        "                                                                                             'ack_count', 'syn_count', 'fin_count', 'urg_count', 'rst_count', 'HTTP',\n",
        "                                                                                             'HTTPS', 'DNS', 'Telnet', 'SMTP', 'SSH', 'IRC', 'TCP', 'UDP', 'DHCP', 'ARP',\n",
        "                                                                                             'ICMP', 'IPv', 'LLC', 'Tot sum', 'Min', 'Max', 'AVG', 'Std', 'Tot size',\n",
        "                                                                                             'IAT', 'Number', 'Magnitue', 'Radius', 'Covariance', 'Variance', 'Weight'])\n",
        "norm_intru_with_classes = norm_intru_labels_removed\n",
        "norm_intru_with_classes['label'] = intru_table['label']"
      ]
    },
    {
      "cell_type": "code",
      "execution_count": null,
      "metadata": {
        "id": "PaJ9u0cV1Fkp"
      },
      "outputs": [],
      "source": [
        "sns.catplot(intru_table, x='flow_duration', y='label')"
      ]
    },
    {
      "cell_type": "code",
      "execution_count": null,
      "metadata": {},
      "outputs": [],
      "source": [
        "sns.catplot(intru_table, x='Header_Length', y='label')"
      ]
    },
    {
      "cell_type": "code",
      "execution_count": null,
      "metadata": {},
      "outputs": [],
      "source": [
        "sns.catplot(intru_table, x='Protocol Type', y='label')"
      ]
    },
    {
      "cell_type": "code",
      "execution_count": null,
      "metadata": {},
      "outputs": [],
      "source": [
        "sns.catplot(intru_table, x='Duration', y='label')"
      ]
    },
    {
      "cell_type": "code",
      "execution_count": null,
      "metadata": {},
      "outputs": [],
      "source": [
        "sns.catplot(intru_table, x='Rate', y='label')"
      ]
    },
    {
      "cell_type": "code",
      "execution_count": null,
      "metadata": {},
      "outputs": [],
      "source": [
        "sns.catplot(intru_table, x='Srate', y='label')"
      ]
    },
    {
      "cell_type": "code",
      "execution_count": null,
      "metadata": {},
      "outputs": [],
      "source": [
        "sns.catplot(intru_table, x='UDP', y='label')"
      ]
    },
    {
      "cell_type": "code",
      "execution_count": null,
      "metadata": {},
      "outputs": [],
      "source": [
        "sns.catplot(\n",
        "    data=intru_table, y=\"HTTPS\", hue=\"label\", kind=\"count\",\n",
        "    palette=\"pastel\", edgecolor=\".6\",\n",
        ")"
      ]
    },
    {
      "cell_type": "code",
      "execution_count": null,
      "metadata": {},
      "outputs": [],
      "source": [
        "# normalized duration attribute, same as above\n",
        "sns.catplot(norm_intru_with_classes, x='Duration', y='label')"
      ]
    },
    {
      "cell_type": "code",
      "execution_count": null,
      "metadata": {},
      "outputs": [],
      "source": [
        "intru_table[\"set\"] = intru_table[\"HTTPS\"].isin([0])\n",
        "sns.catplot(\n",
        "    data=intru_table, x=\"HTTPS\", y=\"label\", hue=\"set\",\n",
        "    kind=\"bar\", dodge=False,\n",
        ")"
      ]
    }
  ],
  "metadata": {
    "colab": {
      "collapsed_sections": [
        "1GOa-OAH1DWV"
      ],
      "provenance": []
    },
    "kernelspec": {
      "display_name": "Python 3",
      "name": "python3"
    },
    "language_info": {
      "codemirror_mode": {
        "name": "ipython",
        "version": 3
      },
      "file_extension": ".py",
      "mimetype": "text/x-python",
      "name": "python",
      "nbconvert_exporter": "python",
      "pygments_lexer": "ipython3",
      "version": "3.9.13"
    }
  },
  "nbformat": 4,
  "nbformat_minor": 0
}
