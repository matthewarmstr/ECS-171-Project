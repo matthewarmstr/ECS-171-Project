{
  "cells": [
    {
      "cell_type": "markdown",
      "metadata": {
        "id": "tERWuHyv1ToQ"
      },
      "source": [
        "#ECS 171 Project: Detecting Cyber Intrusion on IoT Traffic Data\n",
        "####Completed by Matthew Armstrong, Karthik Palanisamy, Rahul Prabhu, Matthew Tom, and Kyle Tsuji\n",
        "#####*Professor Solares, ECS 171: Machine Learning - UC Davis Summer 2023*\n"
      ]
    },
    {
      "cell_type": "markdown",
      "metadata": {
        "id": "LwGTlhud2T53"
      },
      "source": [
        "##Imports and Data Setup"
      ]
    },
    {
      "cell_type": "code",
      "execution_count": null,
      "metadata": {
        "id": "U87m-zAHC_Wl"
      },
      "outputs": [],
      "source": [
        "import pandas as pd\n",
        "import numpy as np\n",
        "import seaborn as sns\n",
        "from sklearn.preprocessing import OneHotEncoder\n",
        "from sklearn.preprocessing import MinMaxScaler"
      ]
    },
    {
      "cell_type": "code",
      "execution_count": null,
      "metadata": {
        "id": "gAmkXad-F-gQ"
      },
      "outputs": [],
      "source": []
    },
    {
      "cell_type": "code",
      "execution_count": null,
      "metadata": {
        "colab": {
          "base_uri": "https://localhost:8080/"
        },
        "id": "eTx0gyVOCqLH",
        "outputId": "ad9b05fd-c15f-46c0-8e5a-0d7fbfbcad81"
      },
      "outputs": [
        {
          "name": "stdout",
          "output_type": "stream",
          "text": [
            "Mounted at /content/drive\n"
          ]
        }
      ],
      "source": [
        "from google.colab import drive\n",
        "drive.mount('/content/drive')"
      ]
    },
    {
      "cell_type": "code",
      "execution_count": null,
      "metadata": {
        "id": "VIndCxSmCt6h"
      },
      "outputs": [],
      "source": [
        "# load data file\n",
        "intru_file = \"/content/drive/MyDrive/ECS 171/ECS 171 Project/intrusion.csv\"\n",
        "intru_table = pd.read_csv(intru_file)\n",
        "intru_labels_removed = intru_table.drop(columns=['label'])"
      ]
    },
    {
      "cell_type": "code",
      "execution_count": null,
      "metadata": {
        "id": "xROILaL9DFgI"
      },
      "outputs": [],
      "source": [
        "# complete one-hot encoding on intrusion labels\n",
        "ohe = OneHotEncoder()\n",
        "ohe_intru_labels = ohe.fit_transform(intru_table['label'].values.reshape(-1,1)).toarray()\n",
        "\n",
        "# normalize traffic attribute data\n",
        "scaler = MinMaxScaler()\n",
        "norm_intru_labels_removed = pd.DataFrame(scaler.fit_transform(intru_labels_removed), columns=['flow_duration', 'Header_Length', 'Protocol Type', 'Duration', 'Rate',\n",
        "                                                                                              'Srate', 'Drate', 'fin_flag_number', 'syn_flag_number', 'rst_flag_number',\n",
        "                                                                                             'psh_flag_number', 'ack_flag_number', 'ece_flag_number', 'cwr_flag_number',\n",
        "                                                                                             'ack_count', 'syn_count', 'fin_count', 'urg_count', 'rst_count', 'HTTP',\n",
        "                                                                                             'HTTPS', 'DNS', 'Telnet', 'SMTP', 'SSH', 'IRC', 'TCP', 'UDP', 'DHCP', 'ARP',\n",
        "                                                                                             'ICMP', 'IPv', 'LLC', 'Tot sum', 'Min', 'Max', 'AVG', 'Std', 'Tot size',\n",
        "                                                                                             'IAT', 'Number', 'Magnitue', 'Radius', 'Covariance', 'Variance', 'Weight'])"
      ]
    },
    {
      "cell_type": "markdown",
      "metadata": {
        "id": "1GOa-OAH1DWV"
      },
      "source": [
        "##Data Preprocessing"
      ]
    },
    {
      "cell_type": "code",
      "execution_count": null,
      "metadata": {
        "id": "ygTCt9MOG0Jh"
      },
      "outputs": [],
      "source": []
    },
    {
      "cell_type": "code",
      "execution_count": null,
      "metadata": {
        "id": "PaJ9u0cV1Fkp"
      },
      "outputs": [],
      "source": []
    }
  ],
  "metadata": {
    "colab": {
      "collapsed_sections": [
        "1GOa-OAH1DWV"
      ],
      "provenance": []
    },
    "kernelspec": {
      "display_name": "Python 3",
      "name": "python3"
    },
    "language_info": {
      "codemirror_mode": {
        "name": "ipython",
        "version": 3
      },
      "file_extension": ".py",
      "mimetype": "text/x-python",
      "name": "python",
      "nbconvert_exporter": "python",
      "pygments_lexer": "ipython3",
      "version": "3.10.0"
    }
  },
  "nbformat": 4,
  "nbformat_minor": 0
}
